{
 "cells": [
  {
   "cell_type": "code",
   "execution_count": 1,
   "id": "d51851ce-23cf-4fa2-8ebc-6023780eb5cd",
   "metadata": {},
   "outputs": [
    {
     "name": "stdout",
     "output_type": "stream",
     "text": [
      "Channels:\n",
      " - defaults\n",
      "Platform: osx-arm64\n",
      "Collecting package metadata (repodata.json): done\n",
      "Solving environment: done\n",
      "\n",
      "## Package Plan ##\n",
      "\n",
      "  environment location: /opt/anaconda3/envs/jupyter-demo\n",
      "\n",
      "  added / updated specs:\n",
      "    - scikit-learn\n",
      "\n",
      "\n",
      "The following packages will be downloaded:\n",
      "\n",
      "    package                    |            build\n",
      "    ---------------------------|-----------------\n",
      "    scikit-learn-1.5.1         |  py312hd77ebd4_0         9.7 MB\n",
      "    threadpoolctl-3.5.0        |  py312h989b03a_0          49 KB\n",
      "    ------------------------------------------------------------\n",
      "                                           Total:         9.7 MB\n",
      "\n",
      "The following NEW packages will be INSTALLED:\n",
      "\n",
      "  blas               pkgs/main/osx-arm64::blas-1.0-openblas \n",
      "  joblib             pkgs/main/osx-arm64::joblib-1.4.2-py312hca03da5_0 \n",
      "  libgfortran        pkgs/main/osx-arm64::libgfortran-5.0.0-11_3_0_hca03da5_28 \n",
      "  libgfortran5       pkgs/main/osx-arm64::libgfortran5-11.3.0-h009349e_28 \n",
      "  libopenblas        pkgs/main/osx-arm64::libopenblas-0.3.21-h269037a_0 \n",
      "  numpy              pkgs/main/osx-arm64::numpy-1.26.4-py312h7f4fdc5_0 \n",
      "  numpy-base         pkgs/main/osx-arm64::numpy-base-1.26.4-py312he047099_0 \n",
      "  pybind11-abi       pkgs/main/noarch::pybind11-abi-5-hd3eb1b0_0 \n",
      "  scikit-learn       pkgs/main/osx-arm64::scikit-learn-1.5.1-py312hd77ebd4_0 \n",
      "  scipy              pkgs/main/osx-arm64::scipy-1.13.1-py312ha409365_0 \n",
      "  threadpoolctl      pkgs/main/osx-arm64::threadpoolctl-3.5.0-py312h989b03a_0 \n",
      "\n",
      "\n",
      "\n",
      "Downloading and Extracting Packages:\n",
      "scikit-learn-1.5.1   | 9.7 MB    |                                       |   0% \n",
      "threadpoolctl-3.5.0  | 49 KB     |                                       |   0% \u001b[A\n",
      "                                                                                \u001b[A\n",
      "                                                                                \u001b[A\n",
      "Preparing transaction: done\n",
      "Verifying transaction: done\n",
      "Executing transaction: done\n",
      "\n",
      "Note: you may need to restart the kernel to use updated packages.\n"
     ]
    }
   ],
   "source": [
    "conda install scikit-learn -y"
   ]
  },
  {
   "cell_type": "code",
   "execution_count": 2,
   "id": "c84982ca-34b4-4940-99fe-c2e2c1694978",
   "metadata": {},
   "outputs": [
    {
     "name": "stdout",
     "output_type": "stream",
     "text": [
      "Channels:\n",
      " - defaults\n",
      "Platform: osx-arm64\n",
      "Collecting package metadata (repodata.json): done\n",
      "Solving environment: done\n",
      "\n",
      "## Package Plan ##\n",
      "\n",
      "  environment location: /opt/anaconda3/envs/jupyter-demo\n",
      "\n",
      "  added / updated specs:\n",
      "    - pandas\n",
      "\n",
      "\n",
      "The following NEW packages will be INSTALLED:\n",
      "\n",
      "  bottleneck         pkgs/main/osx-arm64::bottleneck-1.3.7-py312ha86b861_0 \n",
      "  numexpr            pkgs/main/osx-arm64::numexpr-2.8.7-py312h0f3ea24_0 \n",
      "  pandas             pkgs/main/osx-arm64::pandas-2.2.2-py312hd77ebd4_0 \n",
      "  python-tzdata      pkgs/main/noarch::python-tzdata-2023.3-pyhd3eb1b0_0 \n",
      "\n",
      "\n",
      "\n",
      "Downloading and Extracting Packages:\n",
      "\n",
      "Preparing transaction: done\n",
      "Verifying transaction: done\n",
      "Executing transaction: done\n",
      "\n",
      "Note: you may need to restart the kernel to use updated packages.\n"
     ]
    }
   ],
   "source": [
    "conda install pandas -y "
   ]
  },
  {
   "cell_type": "code",
   "execution_count": 3,
   "id": "5984fa7f-308a-4438-9e15-837816f534de",
   "metadata": {},
   "outputs": [
    {
     "name": "stdout",
     "output_type": "stream",
     "text": [
      "Channels:\n",
      " - defaults\n",
      "Platform: osx-arm64\n",
      "Collecting package metadata (repodata.json): done\n",
      "Solving environment: done\n",
      "\n",
      "## Package Plan ##\n",
      "\n",
      "  environment location: /opt/anaconda3/envs/jupyter-demo\n",
      "\n",
      "  added / updated specs:\n",
      "    - matplotlib\n",
      "\n",
      "\n",
      "The following packages will be downloaded:\n",
      "\n",
      "    package                    |            build\n",
      "    ---------------------------|-----------------\n",
      "    openjpeg-2.5.2             |       h54b8e55_0         324 KB\n",
      "    pillow-10.4.0              |  py312h80987f9_0         883 KB\n",
      "    ------------------------------------------------------------\n",
      "                                           Total:         1.2 MB\n",
      "\n",
      "The following NEW packages will be INSTALLED:\n",
      "\n",
      "  brotli             pkgs/main/osx-arm64::brotli-1.0.9-h80987f9_8 \n",
      "  brotli-bin         pkgs/main/osx-arm64::brotli-bin-1.0.9-h80987f9_8 \n",
      "  contourpy          pkgs/main/osx-arm64::contourpy-1.2.0-py312h48ca7d4_0 \n",
      "  cycler             pkgs/main/noarch::cycler-0.11.0-pyhd3eb1b0_0 \n",
      "  fonttools          pkgs/main/osx-arm64::fonttools-4.51.0-py312h80987f9_0 \n",
      "  freetype           pkgs/main/osx-arm64::freetype-2.12.1-h1192e45_0 \n",
      "  kiwisolver         pkgs/main/osx-arm64::kiwisolver-1.4.4-py312h313beb8_0 \n",
      "  lcms2              pkgs/main/osx-arm64::lcms2-2.12-hba8e193_0 \n",
      "  lerc               pkgs/main/osx-arm64::lerc-3.0-hc377ac9_0 \n",
      "  libbrotlicommon    pkgs/main/osx-arm64::libbrotlicommon-1.0.9-h80987f9_8 \n",
      "  libbrotlidec       pkgs/main/osx-arm64::libbrotlidec-1.0.9-h80987f9_8 \n",
      "  libbrotlienc       pkgs/main/osx-arm64::libbrotlienc-1.0.9-h80987f9_8 \n",
      "  libdeflate         pkgs/main/osx-arm64::libdeflate-1.17-h80987f9_1 \n",
      "  libtiff            pkgs/main/osx-arm64::libtiff-4.5.1-h313beb8_0 \n",
      "  libwebp-base       pkgs/main/osx-arm64::libwebp-base-1.3.2-h80987f9_0 \n",
      "  matplotlib         pkgs/main/osx-arm64::matplotlib-3.8.4-py312hca03da5_0 \n",
      "  matplotlib-base    pkgs/main/osx-arm64::matplotlib-base-3.8.4-py312hd77ebd4_0 \n",
      "  openjpeg           pkgs/main/osx-arm64::openjpeg-2.5.2-h54b8e55_0 \n",
      "  pillow             pkgs/main/osx-arm64::pillow-10.4.0-py312h80987f9_0 \n",
      "  pyparsing          pkgs/main/osx-arm64::pyparsing-3.0.9-py312hca03da5_0 \n",
      "  unicodedata2       pkgs/main/osx-arm64::unicodedata2-15.1.0-py312h80987f9_0 \n",
      "\n",
      "\n",
      "\n",
      "Downloading and Extracting Packages:\n",
      "pillow-10.4.0        | 883 KB    |                                       |   0% \n",
      "pillow-10.4.0        | 883 KB    | ################                      |  43% \u001b[A\n",
      "openjpeg-2.5.2       | 324 KB    | ##############6                       |  40% \u001b[A\n",
      "                                                                                \u001b[A\n",
      "                                                                                \u001b[A\n",
      "Preparing transaction: done\n",
      "Verifying transaction: done\n",
      "Executing transaction: done\n",
      "\n",
      "Note: you may need to restart the kernel to use updated packages.\n"
     ]
    }
   ],
   "source": [
    "conda install matplotlib -y"
   ]
  },
  {
   "cell_type": "code",
   "execution_count": null,
   "id": "556e042d-5a76-4c60-8a62-ed8d363fd7e5",
   "metadata": {},
   "outputs": [],
   "source": []
  }
 ],
 "metadata": {
  "kernelspec": {
   "display_name": "Python 3 (ipykernel)",
   "language": "python",
   "name": "python3"
  },
  "language_info": {
   "codemirror_mode": {
    "name": "ipython",
    "version": 3
   },
   "file_extension": ".py",
   "mimetype": "text/x-python",
   "name": "python",
   "nbconvert_exporter": "python",
   "pygments_lexer": "ipython3",
   "version": "3.12.4"
  }
 },
 "nbformat": 4,
 "nbformat_minor": 5
}
